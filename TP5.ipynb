{
 "cells": [
  {
   "cell_type": "markdown",
   "metadata": {},
   "source": [
    "# Areal Project"
   ]
  },
  {
   "cell_type": "markdown",
   "metadata": {},
   "source": [
    "<div>\n",
    "<img src=\"logo.jpg\" width=150 ALIGN=\"left\" border=\"20\">\n",
    "<h1> Starting Kit for raw data (images)</h1>\n",
    "<br>This code was tested with <br>\n",
    "Python 3.6.7 <br>\n",
    "Created by Areal Team <br><br>\n",
    "ALL INFORMATION, SOFTWARE, DOCUMENTATION, AND DATA ARE PROVIDED \"AS-IS\". The CDS, CHALEARN, AND/OR OTHER ORGANIZERS OR CODE AUTHORS DISCLAIM ANY EXPRESSED OR IMPLIED WARRANTIES, INCLUDING, BUT NOT LIMITED TO, THE IMPLIED WARRANTIES OF MERCHANTABILITY AND FITNESS FOR ANY PARTICULAR PURPOSE, AND THE WARRANTY OF NON-INFRIGEMENT OF ANY THIRD PARTY'S INTELLECTUAL PROPERTY RIGHTS. IN NO EVENT SHALL AUTHORS AND ORGANIZERS BE LIABLE FOR ANY SPECIAL, \n",
    "INDIRECT OR CONSEQUENTIAL DAMAGES OR ANY DAMAGES WHATSOEVER ARISING OUT OF OR IN CONNECTION WITH THE USE OR PERFORMANCE OF SOFTWARE, DOCUMENTS, MATERIALS, PUBLICATIONS, OR INFORMATION MADE AVAILABLE FOR THE CHALLENGE. \n",
    "</div>"
   ]
  },
  {
   "cell_type": "markdown",
   "metadata": {},
   "source": [
    "<div>\n",
    "    <h2>Introduction </h2>\n",
    "     <br>\n",
    "Aerial imagery has been a primary source of geographic data for quite a long time. With technology progress, aerial imagery became really practical for remote sensing : the science of obtaining information about an object, area or phenomenon.\n",
    "Nowadays, there are many uses of image recognition spanning from robotics/drone vision to autonomous driving vehicules or face detection.\n",
    "<br>\n",
    "In this challenge, we will use pre-processed data, coming from landscape images. The goal is to learn to differentiate common and uncommon landscapes such as a beach, a lake or a meadow.\n",
    "    Data comes from part of the data set (NWPU-RESISC45) originally used in <a href=\"https://arxiv.org/pdf/1703.00121.pdf?fbclid=IwAR16qo-EX_Z05ZpxvWG8F-oBU0SlnY-3BPCWBVVOGPyJcVy7BBqCKjnsvJo\">Remote Sensing Image Scene Classification</a>. This data set contains 45 categories while we only kept 13 out of them.\n",
    "\n",
    "References and credits: \n",
    "Yuliya Tarabalka, Guillaume Charpiat, Nicolas Girard for the data sets presentation.<br>\n",
    "Gong Cheng, Junwei Han, and Xiaoqiang Lu, for the original article on the chosen data set.\n",
    "</div>"
   ]
  },
  {
   "cell_type": "markdown",
   "metadata": {},
   "source": [
    "### Requirements \n",
    "\n",
    "The next cell will install all the required dependencies on your computer. You should consider replacing pip with pip3 if pip is related to python2.7 on your computer, or comment it if you already have the dependencies/are running in the docker of the challenge (runnable with the name areal/codalab:pytorch if you know how to run a docker)."
   ]
  },
  {
   "cell_type": "code",
   "execution_count": 1,
   "metadata": {},
   "outputs": [],
   "source": [
    "#!pip install --user -r requirements.txt"
   ]
  },
  {
   "cell_type": "code",
   "execution_count": 2,
   "metadata": {},
   "outputs": [],
   "source": [
    "import numpy as np\n",
    "import random\n",
    "import re"
   ]
  },
  {
   "cell_type": "code",
   "execution_count": 3,
   "metadata": {},
   "outputs": [],
   "source": [
    "model_dir = \"sample_code_submission\"\n",
    "result_dir = 'sample_result_submission/' \n",
    "problem_dir = 'ingestion_program/'  \n",
    "score_dir = 'scoring_program/'"
   ]
  },
  {
   "cell_type": "code",
   "execution_count": 4,
   "metadata": {},
   "outputs": [],
   "source": [
    "from sys import path; path.append(model_dir); path.append(problem_dir); path.append(score_dir);"
   ]
  },
  {
   "cell_type": "markdown",
   "metadata": {},
   "source": [
    "Go through the challenge website and watch the trailer video.\n",
    "\n",
    "#### Question 1: Briefly explain the problem."
   ]
  },
  {
   "cell_type": "markdown",
   "metadata": {},
   "source": [
    "We are to classify images of certain landscapes to 13 different classes(beach,chaparral,cloud,desert,forest,island,lake,meadow,mountain,river,sea,snowberg,wetland)."
   ]
  },
  {
   "cell_type": "markdown",
   "metadata": {},
   "source": [
    "#### Question 2: What is the scoring metric used to evaluate submissions?"
   ]
  },
  {
   "cell_type": "markdown",
   "metadata": {},
   "source": [
    "The accuracy that is used to evaluate submission is the percentage of rightly identified(prediction==solution) classes.\n",
    "\n",
    "aacuracy = (n_true_positive + n_true_negative) / (n_all_samples)\n"
   ]
  },
  {
   "cell_type": "markdown",
   "metadata": {},
   "source": [
    "<div>\n",
    "    <h1> Step 1: Exploratory data analysis </h1>\n",
    "<p>\n",
    "We provide sample_data with the starting kit, but to prepare your submission, you must fetch the public_data from the challenge website and point to it.\n",
    "</div>"
   ]
  },
  {
   "cell_type": "code",
   "execution_count": 5,
   "metadata": {},
   "outputs": [],
   "source": [
    "#data_dir = 'sample_data'\n",
    "data_dir = '../public_data_tp5' # download \"public_data\" from the challenge website\n",
    "data_name = 'Areal'"
   ]
  },
  {
   "cell_type": "markdown",
   "metadata": {},
   "source": [
    "<h2 style=\"color:red \" >Warning</h2>\n",
    "\n",
    "<p style=\"font-style:italic\"> In case you want to load the full data </p> \n",
    "Files being big, your computer needs to have enough space available in your RAM. It should take about 3-4GB while loading and 1.5GB in the end."
   ]
  },
  {
   "cell_type": "code",
   "execution_count": 7,
   "metadata": {},
   "outputs": [
    {
     "name": "stdout",
     "output_type": "stream",
     "text": [
      "Reading ../public_data_tp5/Areal_train from AutoML format\n",
      "Number of examples = 5200\n",
      "Number of features = 49152\n",
      "        Class\n",
      "0       beach\n",
      "1   chaparral\n",
      "2       cloud\n",
      "3      desert\n",
      "4      forest\n",
      "5      island\n",
      "6        lake\n",
      "7      meadow\n",
      "8    mountain\n",
      "9       river\n",
      "10        sea\n",
      "11   snowberg\n",
      "12    wetland\n",
      "Number of classes = 13\n"
     ]
    }
   ],
   "source": [
    "from ingestion_program.data_io import read_as_df\n",
    "data = read_as_df(data_dir  + '/' + data_name)"
   ]
  },
  {
   "cell_type": "code",
   "execution_count": 7,
   "metadata": {},
   "outputs": [
    {
     "data": {
      "text/plain": [
       "(5200, 49153)"
      ]
     },
     "execution_count": 7,
     "metadata": {},
     "output_type": "execute_result"
    }
   ],
   "source": [
    "data.shape"
   ]
  },
  {
   "cell_type": "code",
   "execution_count": 8,
   "metadata": {
    "scrolled": true
   },
   "outputs": [
    {
     "data": {
      "text/html": [
       "<div>\n",
       "<style scoped>\n",
       "    .dataframe tbody tr th:only-of-type {\n",
       "        vertical-align: middle;\n",
       "    }\n",
       "\n",
       "    .dataframe tbody tr th {\n",
       "        vertical-align: top;\n",
       "    }\n",
       "\n",
       "    .dataframe thead th {\n",
       "        text-align: right;\n",
       "    }\n",
       "</style>\n",
       "<table border=\"1\" class=\"dataframe\">\n",
       "  <thead>\n",
       "    <tr style=\"text-align: right;\">\n",
       "      <th></th>\n",
       "      <th>pixel_1_1_R</th>\n",
       "      <th>pixel_1_1_G</th>\n",
       "      <th>pixel_1_1_B</th>\n",
       "      <th>pixel_1_2_R</th>\n",
       "      <th>pixel_1_2_G</th>\n",
       "      <th>pixel_1_2_B</th>\n",
       "      <th>pixel_1_3_R</th>\n",
       "      <th>pixel_1_3_G</th>\n",
       "      <th>pixel_1_3_B</th>\n",
       "      <th>pixel_1_4_R</th>\n",
       "      <th>...</th>\n",
       "      <th>pixel_128_126_R</th>\n",
       "      <th>pixel_128_126_G</th>\n",
       "      <th>pixel_128_126_B</th>\n",
       "      <th>pixel_128_127_R</th>\n",
       "      <th>pixel_128_127_G</th>\n",
       "      <th>pixel_128_127_B</th>\n",
       "      <th>pixel_128_128_R</th>\n",
       "      <th>pixel_128_128_G</th>\n",
       "      <th>pixel_128_128_B</th>\n",
       "      <th>target</th>\n",
       "    </tr>\n",
       "  </thead>\n",
       "  <tbody>\n",
       "    <tr>\n",
       "      <th>0</th>\n",
       "      <td>109</td>\n",
       "      <td>134</td>\n",
       "      <td>112</td>\n",
       "      <td>64</td>\n",
       "      <td>89</td>\n",
       "      <td>67</td>\n",
       "      <td>90</td>\n",
       "      <td>114</td>\n",
       "      <td>90</td>\n",
       "      <td>109</td>\n",
       "      <td>...</td>\n",
       "      <td>92</td>\n",
       "      <td>115</td>\n",
       "      <td>89</td>\n",
       "      <td>100</td>\n",
       "      <td>120</td>\n",
       "      <td>95</td>\n",
       "      <td>107</td>\n",
       "      <td>127</td>\n",
       "      <td>102</td>\n",
       "      <td>island</td>\n",
       "    </tr>\n",
       "    <tr>\n",
       "      <th>1</th>\n",
       "      <td>68</td>\n",
       "      <td>73</td>\n",
       "      <td>66</td>\n",
       "      <td>63</td>\n",
       "      <td>68</td>\n",
       "      <td>61</td>\n",
       "      <td>66</td>\n",
       "      <td>69</td>\n",
       "      <td>62</td>\n",
       "      <td>72</td>\n",
       "      <td>...</td>\n",
       "      <td>83</td>\n",
       "      <td>79</td>\n",
       "      <td>67</td>\n",
       "      <td>112</td>\n",
       "      <td>105</td>\n",
       "      <td>95</td>\n",
       "      <td>115</td>\n",
       "      <td>108</td>\n",
       "      <td>100</td>\n",
       "      <td>beach</td>\n",
       "    </tr>\n",
       "    <tr>\n",
       "      <th>2</th>\n",
       "      <td>119</td>\n",
       "      <td>142</td>\n",
       "      <td>122</td>\n",
       "      <td>110</td>\n",
       "      <td>134</td>\n",
       "      <td>112</td>\n",
       "      <td>104</td>\n",
       "      <td>129</td>\n",
       "      <td>107</td>\n",
       "      <td>104</td>\n",
       "      <td>...</td>\n",
       "      <td>131</td>\n",
       "      <td>132</td>\n",
       "      <td>136</td>\n",
       "      <td>130</td>\n",
       "      <td>131</td>\n",
       "      <td>136</td>\n",
       "      <td>134</td>\n",
       "      <td>135</td>\n",
       "      <td>140</td>\n",
       "      <td>beach</td>\n",
       "    </tr>\n",
       "    <tr>\n",
       "      <th>3</th>\n",
       "      <td>203</td>\n",
       "      <td>187</td>\n",
       "      <td>171</td>\n",
       "      <td>196</td>\n",
       "      <td>180</td>\n",
       "      <td>164</td>\n",
       "      <td>195</td>\n",
       "      <td>180</td>\n",
       "      <td>161</td>\n",
       "      <td>192</td>\n",
       "      <td>...</td>\n",
       "      <td>132</td>\n",
       "      <td>114</td>\n",
       "      <td>100</td>\n",
       "      <td>105</td>\n",
       "      <td>87</td>\n",
       "      <td>73</td>\n",
       "      <td>57</td>\n",
       "      <td>39</td>\n",
       "      <td>25</td>\n",
       "      <td>chaparral</td>\n",
       "    </tr>\n",
       "    <tr>\n",
       "      <th>4</th>\n",
       "      <td>229</td>\n",
       "      <td>222</td>\n",
       "      <td>203</td>\n",
       "      <td>227</td>\n",
       "      <td>220</td>\n",
       "      <td>201</td>\n",
       "      <td>225</td>\n",
       "      <td>218</td>\n",
       "      <td>199</td>\n",
       "      <td>233</td>\n",
       "      <td>...</td>\n",
       "      <td>83</td>\n",
       "      <td>105</td>\n",
       "      <td>102</td>\n",
       "      <td>59</td>\n",
       "      <td>81</td>\n",
       "      <td>78</td>\n",
       "      <td>82</td>\n",
       "      <td>104</td>\n",
       "      <td>101</td>\n",
       "      <td>beach</td>\n",
       "    </tr>\n",
       "  </tbody>\n",
       "</table>\n",
       "<p>5 rows × 49153 columns</p>\n",
       "</div>"
      ],
      "text/plain": [
       "   pixel_1_1_R  pixel_1_1_G  pixel_1_1_B  pixel_1_2_R  pixel_1_2_G  \\\n",
       "0          109          134          112           64           89   \n",
       "1           68           73           66           63           68   \n",
       "2          119          142          122          110          134   \n",
       "3          203          187          171          196          180   \n",
       "4          229          222          203          227          220   \n",
       "\n",
       "   pixel_1_2_B  pixel_1_3_R  pixel_1_3_G  pixel_1_3_B  pixel_1_4_R  ...  \\\n",
       "0           67           90          114           90          109  ...   \n",
       "1           61           66           69           62           72  ...   \n",
       "2          112          104          129          107          104  ...   \n",
       "3          164          195          180          161          192  ...   \n",
       "4          201          225          218          199          233  ...   \n",
       "\n",
       "   pixel_128_126_R  pixel_128_126_G  pixel_128_126_B  pixel_128_127_R  \\\n",
       "0               92              115               89              100   \n",
       "1               83               79               67              112   \n",
       "2              131              132              136              130   \n",
       "3              132              114              100              105   \n",
       "4               83              105              102               59   \n",
       "\n",
       "   pixel_128_127_G  pixel_128_127_B  pixel_128_128_R  pixel_128_128_G  \\\n",
       "0              120               95              107              127   \n",
       "1              105               95              115              108   \n",
       "2              131              136              134              135   \n",
       "3               87               73               57               39   \n",
       "4               81               78               82              104   \n",
       "\n",
       "   pixel_128_128_B     target  \n",
       "0              102     island  \n",
       "1              100      beach  \n",
       "2              140      beach  \n",
       "3               25  chaparral  \n",
       "4              101      beach  \n",
       "\n",
       "[5 rows x 49153 columns]"
      ]
     },
     "execution_count": 8,
     "metadata": {},
     "output_type": "execute_result"
    }
   ],
   "source": [
    "data.head()"
   ]
  },
  {
   "cell_type": "code",
   "execution_count": null,
   "metadata": {},
   "outputs": [],
   "source": [
    "# data.describe()"
   ]
  },
  {
   "cell_type": "markdown",
   "metadata": {},
   "source": []
  },
  {
   "cell_type": "code",
   "execution_count": null,
   "metadata": {},
   "outputs": [],
   "source": [
    "import matplotlib.pyplot as plt\n",
    "import matplotlib.image as mpimg\n",
    "%matplotlib inline\n",
    "\n",
    "num_toshow = 6\n",
    "fig, _axs = plt.subplots(nrows=2, ncols=3, figsize=(10,10))\n",
    "fig.subplots_adjust(hspace=0.3)\n",
    "axs = _axs.flatten()\n",
    "\n",
    "\n",
    "for i in range(num_toshow):\n",
    "    img = data.iloc[i].values[:-1].reshape(128,128,3)\n",
    "    label = data.iloc[i].values[-1:]\n",
    "    axs[i].set_title('Example of {}'.format(label))\n",
    "    axs[i].imshow(img.astype(float) / 255)\n",
    "\n",
    "plt.show()"
   ]
  },
  {
   "cell_type": "markdown",
   "metadata": {},
   "source": [
    "We can use a library to extract features with different algorithms. Here we print the example pictures from before with the different extracted features on top of them. We can see that the algorithm espacially finds the edges of the pictures(dessert has no features on the bleak surfaces etc.)\n",
    "To go through the pcitures use any key of the keyboard."
   ]
  },
  {
   "cell_type": "code",
   "execution_count": null,
   "metadata": {},
   "outputs": [],
   "source": [
    "import cv2 as cv\n",
    "\n",
    "for i in range(num_toshow):\n",
    "    img = data.iloc[i].values[:-1].reshape(128,128,3)\n",
    "    new_img = (img.astype(float) / 255)\n",
    "    gray= cv.cvtColor(new_img.astype('float32'),cv.COLOR_BGR2GRAY)\n",
    "    sift = cv.SIFT_create()\n",
    "    image8bit = cv.normalize(gray, None, 0, 255, cv.NORM_MINMAX).astype('uint8')\n",
    "    kp, des = sift.detectAndCompute(image8bit,None)\n",
    "    img=cv.drawKeypoints(image8bit,kp,new_img)\n",
    "    cv.imshow('sift_keypoints.jpg',img)\n",
    "    cv.waitKey(0)"
   ]
  },
  {
   "cell_type": "code",
   "execution_count": null,
   "metadata": {},
   "outputs": [],
   "source": [
    "data.head()"
   ]
  },
  {
   "cell_type": "code",
   "execution_count": null,
   "metadata": {},
   "outputs": [],
   "source": [
    "#np.array(data)\n",
    "#np.array(features)"
   ]
  },
  {
   "cell_type": "code",
   "execution_count": null,
   "metadata": {},
   "outputs": [],
   "source": [
    "print(data.iloc[:, -1:])\n",
    "X = data.iloc[:, :-1]\n",
    "y = data.iloc[:, -1:]"
   ]
  },
  {
   "cell_type": "code",
   "execution_count": null,
   "metadata": {},
   "outputs": [],
   "source": [
    "np.unique(data[\"target\"])#.shape"
   ]
  },
  {
   "cell_type": "code",
   "execution_count": null,
   "metadata": {},
   "outputs": [],
   "source": [
    "data[data[\"target\"]==\"island\"].shape"
   ]
  },
  {
   "cell_type": "markdown",
   "metadata": {},
   "source": [
    "#### Code 1: compute statistics of the dataset.\n",
    "\n",
    "* How many features?\n",
    "* How many data points?\n",
    "* How many classes?\n",
    "* What is the most represented class?\n",
    "* What is the least represented class?"
   ]
  },
  {
   "cell_type": "code",
   "execution_count": null,
   "metadata": {},
   "outputs": [],
   "source": [
    "#Features: 128*128*3\n",
    "#Data points: 5200\n",
    "#Classes: 13\n",
    "#They are equally represented: all by 400 samples"
   ]
  },
  {
   "cell_type": "markdown",
   "metadata": {},
   "source": [
    "# Step 2 : Building a predictive model"
   ]
  },
  {
   "cell_type": "markdown",
   "metadata": {},
   "source": [
    "<h2 style=\"color:red \" >Warning</h2>\n",
    "\n",
    "<p style=\"font-style:italic\"> In case you want to load the full data </p> \n",
    "This time, also, still make sure that your RAM has at least 2-3GB available."
   ]
  },
  {
   "cell_type": "code",
   "execution_count": 8,
   "metadata": {},
   "outputs": [
    {
     "name": "stdout",
     "output_type": "stream",
     "text": [
      "Info file found : /home/mykola/Projects/public_data_tp5/Areal_public.info\n",
      "========= Reading ../public_data_tp5/Areal_feat.type\n",
      "[+] Success in  0.00 sec\n",
      "========= Reading ../public_data_tp5/Areal_train.data\n",
      "[+] Success in 80.39 sec\n",
      "========= Reading ../public_data_tp5/Areal_train.solution\n",
      "[+] Success in  0.02 sec\n",
      "========= Reading ../public_data_tp5/Areal_valid.data\n",
      "[+] Success in 31.76 sec\n",
      "========= Reading ../public_data_tp5/Areal_valid.solution\n",
      "[+] Success in  0.00 sec\n",
      "========= Reading ../public_data_tp5/Areal_test.data\n",
      "[+] Success in 31.18 sec\n",
      "========= Reading ../public_data_tp5/Areal_test.solution\n",
      "[+] Success in  0.00 sec\n",
      "DataManager : Areal\n",
      "info:\n",
      "\tusage = Sample dataset Areal data\n",
      "\tname = areal\n",
      "\ttask = multiclass.classification\n",
      "\ttarget_type = Categorical\n",
      "\tfeat_type = Numerical\n",
      "\tmetric = accuracy\n",
      "\ttime_budget = 12000\n",
      "\tfeat_num = 49152\n",
      "\ttarget_num = 13\n",
      "\tlabel_num = 13\n",
      "\ttrain_num = 5200\n",
      "\tvalid_num = 1950\n",
      "\ttest_num = 1950\n",
      "\thas_categorical = 0\n",
      "\thas_missing = 0\n",
      "\tis_sparse = 0\n",
      "\tformat = dense\n",
      "data:\n",
      "\tX_train = array(5200, 49152)\n",
      "\tY_train = array(5200, 1)\n",
      "\tX_valid = array(1950, 49152)\n",
      "\tY_valid = array(0,)\n",
      "\tX_test = array(1950, 49152)\n",
      "\tY_test = array(0,)\n",
      "feat_type:\tarray(0,)\n",
      "feat_idx:\tarray(0,)\n",
      "\n"
     ]
    }
   ],
   "source": [
    "from data_manager import DataManager\n",
    "D = DataManager(data_name, data_dir, replace_missing=False, verbose=True)\n",
    "print(D)"
   ]
  },
  {
   "cell_type": "code",
   "execution_count": 12,
   "metadata": {},
   "outputs": [],
   "source": [
    "X_train = D.data['X_train']\n",
    "Y_train = D.data['Y_train']"
   ]
  },
  {
   "cell_type": "markdown",
   "metadata": {},
   "source": [
    "### Processing\n",
    "\n",
    "Basically, there are two approaches:\n",
    "\n",
    "* Use raw data as input. This may be the good way to go with, for instance, deep learning models.\n",
    "* Do feature engineering: process the data to create features. You can then use this features as the input of your classifier (Random forest, SVM, etc.). An example of feature is the number of blue pixel in the image. Feature extraction can also be done by a CNN."
   ]
  },
  {
   "cell_type": "code",
   "execution_count": 18,
   "metadata": {},
   "outputs": [],
   "source": [
    "import cv2 as cv\n",
    "def extract_features(image, vector_size=32):\n",
    "    try:\n",
    "        #alg = cv.KAZE_create()\n",
    "        #image = (image.astype(float) / 255)\n",
    "        image = image.reshape(128,128,3)\n",
    "        image= cv.cvtColor(image.astype('float32'),cv.COLOR_BGR2GRAY)\n",
    "        #alg = cv.SIFT_create()\n",
    "        alg = cv.KAZE_create()\n",
    "        kps = alg.detect(image)\n",
    "        # Sorting them based on keypoint response value(bigger is better)\n",
    "        kps = sorted(kps, key=lambda x: -x.response)[:vector_size]\n",
    "        kps, dsc = alg.compute(image, kps)\n",
    "        dsc = dsc.flatten()\n",
    "        needed_size = (vector_size * 64)\n",
    "        if dsc.size < needed_size:\n",
    "            dsc = np.concatenate([dsc, np.zeros(needed_size - dsc.size)])\n",
    "    except cv.error as e:\n",
    "        print('Error: ', e)\n",
    "        return None\n",
    "    return dsc"
   ]
  },
  {
   "cell_type": "code",
   "execution_count": 19,
   "metadata": {},
   "outputs": [],
   "source": [
    "import mahotas\n",
    "\n",
    "def fd_hu_moments(image):\n",
    "    image = cv.cvtColor(image.reshape(128,128,3), cv.COLOR_BGR2GRAY)\n",
    "    feature = cv.HuMoments(cv.moments(image)).flatten()\n",
    "    return feature\n",
    "\n",
    "def fd_haralick(image):    # convert the image to grayscale\n",
    "    #image = (image.astype(float) / 255)\n",
    "    gray = cv.cvtColor(image.reshape(128,128,3), cv.COLOR_BGR2GRAY)\n",
    "    #print(gray)\n",
    "    # compute the haralick texture feature vector\n",
    "    haralick = mahotas.features.haralick(gray).mean(axis=0)\n",
    "    return haralick\n",
    " \n",
    "def fd_histogram(image, mask=None):\n",
    "    # convert the image to HSV color-space\n",
    "    image = cv.cvtColor(image.reshape(128,128,3), cv.COLOR_BGR2HSV)\n",
    "    # compute the color histogram\n",
    "    hist  = cv.calcHist([image], [0, 1, 2], None, [256], [0, 256, 0, 256, 0, 256])\n",
    "    # normalize the histogram\n",
    "    cv.normalize(hist, hist)\n",
    "    return hist.flatten()"
   ]
  },
  {
   "cell_type": "code",
   "execution_count": 20,
   "metadata": {},
   "outputs": [],
   "source": [
    "def create_features(images):\n",
    "    kaze_features = np.array([extract_features(X) for X in images])\n",
    "    hu_features = np.array([fd_hu_moments(X) for X in images])\n",
    "    haralick_features = np.array([fd_haralick(X) for X in images])\n",
    "    #hist_features = np.array([fd_histogram(X) for X in X_train])\n",
    "    return np.hstack((kaze_features, hu_features,haralick_features))"
   ]
  },
  {
   "cell_type": "code",
   "execution_count": 21,
   "metadata": {},
   "outputs": [],
   "source": [
    "#split into training and validation set\n",
    "X_train = D.data['X_train'][:1500, :]\n",
    "X_validation = D.data['X_train'][1500:, :]\n",
    "y_train = D.data['Y_train'][:1500]\n",
    "y_validation = D.data['Y_train'][1500:]"
   ]
  },
  {
   "cell_type": "code",
   "execution_count": 23,
   "metadata": {},
   "outputs": [
    {
     "name": "stderr",
     "output_type": "stream",
     "text": [
      "/home/mykola/anaconda3/envs/cuda9/lib/python3.6/site-packages/ipykernel_launcher.py:4: DataConversionWarning: A column-vector y was passed when a 1d array was expected. Please change the shape of y to (n_samples,), for example using ravel().\n",
      "  after removing the cwd from sys.path.\n"
     ]
    },
    {
     "ename": "KeyboardInterrupt",
     "evalue": "",
     "output_type": "error",
     "traceback": [
      "\u001b[0;31m---------------------------------------------------------------------------\u001b[0m",
      "\u001b[0;31mKeyboardInterrupt\u001b[0m                         Traceback (most recent call last)",
      "\u001b[0;32m<ipython-input-23-0bb711106d1a>\u001b[0m in \u001b[0;36m<module>\u001b[0;34m\u001b[0m\n\u001b[1;32m      4\u001b[0m \u001b[0mclf\u001b[0m\u001b[0;34m.\u001b[0m\u001b[0mfit\u001b[0m\u001b[0;34m(\u001b[0m\u001b[0mcreate_features\u001b[0m\u001b[0;34m(\u001b[0m\u001b[0mX_train\u001b[0m\u001b[0;34m)\u001b[0m\u001b[0;34m,\u001b[0m \u001b[0my_train\u001b[0m\u001b[0;34m)\u001b[0m\u001b[0;34m\u001b[0m\u001b[0;34m\u001b[0m\u001b[0m\n\u001b[1;32m      5\u001b[0m \u001b[0mY_hat_train\u001b[0m \u001b[0;34m=\u001b[0m \u001b[0mclf\u001b[0m\u001b[0;34m.\u001b[0m\u001b[0mpredict\u001b[0m\u001b[0;34m(\u001b[0m\u001b[0mcreate_features\u001b[0m\u001b[0;34m(\u001b[0m\u001b[0mX_train\u001b[0m\u001b[0;34m)\u001b[0m\u001b[0;34m)\u001b[0m\u001b[0;34m\u001b[0m\u001b[0;34m\u001b[0m\u001b[0m\n\u001b[0;32m----> 6\u001b[0;31m \u001b[0mY_hat_valid\u001b[0m \u001b[0;34m=\u001b[0m \u001b[0mclf\u001b[0m\u001b[0;34m.\u001b[0m\u001b[0mpredict\u001b[0m\u001b[0;34m(\u001b[0m\u001b[0mcreate_features\u001b[0m\u001b[0;34m(\u001b[0m\u001b[0mX_validation\u001b[0m\u001b[0;34m)\u001b[0m\u001b[0;34m)\u001b[0m\u001b[0;34m\u001b[0m\u001b[0;34m\u001b[0m\u001b[0m\n\u001b[0m",
      "\u001b[0;32m<ipython-input-20-b97381b310d4>\u001b[0m in \u001b[0;36mcreate_features\u001b[0;34m(images)\u001b[0m\n\u001b[1;32m      1\u001b[0m \u001b[0;32mdef\u001b[0m \u001b[0mcreate_features\u001b[0m\u001b[0;34m(\u001b[0m\u001b[0mimages\u001b[0m\u001b[0;34m)\u001b[0m\u001b[0;34m:\u001b[0m\u001b[0;34m\u001b[0m\u001b[0;34m\u001b[0m\u001b[0m\n\u001b[0;32m----> 2\u001b[0;31m     \u001b[0mkaze_features\u001b[0m \u001b[0;34m=\u001b[0m \u001b[0mnp\u001b[0m\u001b[0;34m.\u001b[0m\u001b[0marray\u001b[0m\u001b[0;34m(\u001b[0m\u001b[0;34m[\u001b[0m\u001b[0mextract_features\u001b[0m\u001b[0;34m(\u001b[0m\u001b[0mX\u001b[0m\u001b[0;34m)\u001b[0m \u001b[0;32mfor\u001b[0m \u001b[0mX\u001b[0m \u001b[0;32min\u001b[0m \u001b[0mimages\u001b[0m\u001b[0;34m]\u001b[0m\u001b[0;34m)\u001b[0m\u001b[0;34m\u001b[0m\u001b[0;34m\u001b[0m\u001b[0m\n\u001b[0m\u001b[1;32m      3\u001b[0m     \u001b[0mhu_features\u001b[0m \u001b[0;34m=\u001b[0m \u001b[0mnp\u001b[0m\u001b[0;34m.\u001b[0m\u001b[0marray\u001b[0m\u001b[0;34m(\u001b[0m\u001b[0;34m[\u001b[0m\u001b[0mfd_hu_moments\u001b[0m\u001b[0;34m(\u001b[0m\u001b[0mX\u001b[0m\u001b[0;34m)\u001b[0m \u001b[0;32mfor\u001b[0m \u001b[0mX\u001b[0m \u001b[0;32min\u001b[0m \u001b[0mimages\u001b[0m\u001b[0;34m]\u001b[0m\u001b[0;34m)\u001b[0m\u001b[0;34m\u001b[0m\u001b[0;34m\u001b[0m\u001b[0m\n\u001b[1;32m      4\u001b[0m     \u001b[0mharalick_features\u001b[0m \u001b[0;34m=\u001b[0m \u001b[0mnp\u001b[0m\u001b[0;34m.\u001b[0m\u001b[0marray\u001b[0m\u001b[0;34m(\u001b[0m\u001b[0;34m[\u001b[0m\u001b[0mfd_haralick\u001b[0m\u001b[0;34m(\u001b[0m\u001b[0mX\u001b[0m\u001b[0;34m)\u001b[0m \u001b[0;32mfor\u001b[0m \u001b[0mX\u001b[0m \u001b[0;32min\u001b[0m \u001b[0mimages\u001b[0m\u001b[0;34m]\u001b[0m\u001b[0;34m)\u001b[0m\u001b[0;34m\u001b[0m\u001b[0;34m\u001b[0m\u001b[0m\n\u001b[1;32m      5\u001b[0m     \u001b[0;31m#hist_features = np.array([fd_histogram(X) for X in X_train])\u001b[0m\u001b[0;34m\u001b[0m\u001b[0;34m\u001b[0m\u001b[0;34m\u001b[0m\u001b[0m\n",
      "\u001b[0;32m<ipython-input-20-b97381b310d4>\u001b[0m in \u001b[0;36m<listcomp>\u001b[0;34m(.0)\u001b[0m\n\u001b[1;32m      1\u001b[0m \u001b[0;32mdef\u001b[0m \u001b[0mcreate_features\u001b[0m\u001b[0;34m(\u001b[0m\u001b[0mimages\u001b[0m\u001b[0;34m)\u001b[0m\u001b[0;34m:\u001b[0m\u001b[0;34m\u001b[0m\u001b[0;34m\u001b[0m\u001b[0m\n\u001b[0;32m----> 2\u001b[0;31m     \u001b[0mkaze_features\u001b[0m \u001b[0;34m=\u001b[0m \u001b[0mnp\u001b[0m\u001b[0;34m.\u001b[0m\u001b[0marray\u001b[0m\u001b[0;34m(\u001b[0m\u001b[0;34m[\u001b[0m\u001b[0mextract_features\u001b[0m\u001b[0;34m(\u001b[0m\u001b[0mX\u001b[0m\u001b[0;34m)\u001b[0m \u001b[0;32mfor\u001b[0m \u001b[0mX\u001b[0m \u001b[0;32min\u001b[0m \u001b[0mimages\u001b[0m\u001b[0;34m]\u001b[0m\u001b[0;34m)\u001b[0m\u001b[0;34m\u001b[0m\u001b[0;34m\u001b[0m\u001b[0m\n\u001b[0m\u001b[1;32m      3\u001b[0m     \u001b[0mhu_features\u001b[0m \u001b[0;34m=\u001b[0m \u001b[0mnp\u001b[0m\u001b[0;34m.\u001b[0m\u001b[0marray\u001b[0m\u001b[0;34m(\u001b[0m\u001b[0;34m[\u001b[0m\u001b[0mfd_hu_moments\u001b[0m\u001b[0;34m(\u001b[0m\u001b[0mX\u001b[0m\u001b[0;34m)\u001b[0m \u001b[0;32mfor\u001b[0m \u001b[0mX\u001b[0m \u001b[0;32min\u001b[0m \u001b[0mimages\u001b[0m\u001b[0;34m]\u001b[0m\u001b[0;34m)\u001b[0m\u001b[0;34m\u001b[0m\u001b[0;34m\u001b[0m\u001b[0m\n\u001b[1;32m      4\u001b[0m     \u001b[0mharalick_features\u001b[0m \u001b[0;34m=\u001b[0m \u001b[0mnp\u001b[0m\u001b[0;34m.\u001b[0m\u001b[0marray\u001b[0m\u001b[0;34m(\u001b[0m\u001b[0;34m[\u001b[0m\u001b[0mfd_haralick\u001b[0m\u001b[0;34m(\u001b[0m\u001b[0mX\u001b[0m\u001b[0;34m)\u001b[0m \u001b[0;32mfor\u001b[0m \u001b[0mX\u001b[0m \u001b[0;32min\u001b[0m \u001b[0mimages\u001b[0m\u001b[0;34m]\u001b[0m\u001b[0;34m)\u001b[0m\u001b[0;34m\u001b[0m\u001b[0;34m\u001b[0m\u001b[0m\n\u001b[1;32m      5\u001b[0m     \u001b[0;31m#hist_features = np.array([fd_histogram(X) for X in X_train])\u001b[0m\u001b[0;34m\u001b[0m\u001b[0;34m\u001b[0m\u001b[0;34m\u001b[0m\u001b[0m\n",
      "\u001b[0;32m<ipython-input-18-68bddc532adb>\u001b[0m in \u001b[0;36mextract_features\u001b[0;34m(image, vector_size)\u001b[0m\n\u001b[1;32m      8\u001b[0m         \u001b[0;31m#alg = cv.SIFT_create()\u001b[0m\u001b[0;34m\u001b[0m\u001b[0;34m\u001b[0m\u001b[0;34m\u001b[0m\u001b[0m\n\u001b[1;32m      9\u001b[0m         \u001b[0malg\u001b[0m \u001b[0;34m=\u001b[0m \u001b[0mcv\u001b[0m\u001b[0;34m.\u001b[0m\u001b[0mKAZE_create\u001b[0m\u001b[0;34m(\u001b[0m\u001b[0;34m)\u001b[0m\u001b[0;34m\u001b[0m\u001b[0;34m\u001b[0m\u001b[0m\n\u001b[0;32m---> 10\u001b[0;31m         \u001b[0mkps\u001b[0m \u001b[0;34m=\u001b[0m \u001b[0malg\u001b[0m\u001b[0;34m.\u001b[0m\u001b[0mdetect\u001b[0m\u001b[0;34m(\u001b[0m\u001b[0mimage\u001b[0m\u001b[0;34m)\u001b[0m\u001b[0;34m\u001b[0m\u001b[0;34m\u001b[0m\u001b[0m\n\u001b[0m\u001b[1;32m     11\u001b[0m         \u001b[0;31m# Sorting them based on keypoint response value(bigger is better)\u001b[0m\u001b[0;34m\u001b[0m\u001b[0;34m\u001b[0m\u001b[0;34m\u001b[0m\u001b[0m\n\u001b[1;32m     12\u001b[0m         \u001b[0mkps\u001b[0m \u001b[0;34m=\u001b[0m \u001b[0msorted\u001b[0m\u001b[0;34m(\u001b[0m\u001b[0mkps\u001b[0m\u001b[0;34m,\u001b[0m \u001b[0mkey\u001b[0m\u001b[0;34m=\u001b[0m\u001b[0;32mlambda\u001b[0m \u001b[0mx\u001b[0m\u001b[0;34m:\u001b[0m \u001b[0;34m-\u001b[0m\u001b[0mx\u001b[0m\u001b[0;34m.\u001b[0m\u001b[0mresponse\u001b[0m\u001b[0;34m)\u001b[0m\u001b[0;34m[\u001b[0m\u001b[0;34m:\u001b[0m\u001b[0mvector_size\u001b[0m\u001b[0;34m]\u001b[0m\u001b[0;34m\u001b[0m\u001b[0;34m\u001b[0m\u001b[0m\n",
      "\u001b[0;31mKeyboardInterrupt\u001b[0m: "
     ]
    }
   ],
   "source": [
    "from sklearn.ensemble import RandomForestClassifier\n",
    "\n",
    "clf = RandomForestClassifier(class_weight=\"balanced\")\n",
    "clf.fit(create_features(X_train), y_train)\n",
    "Y_hat_train = clf.predict(create_features(X_train))\n",
    "Y_hat_valid = clf.predict(create_features(X_validation))"
   ]
  },
  {
   "cell_type": "code",
   "execution_count": 45,
   "metadata": {},
   "outputs": [
    {
     "data": {
      "text/plain": [
       "0.5248648648648648"
      ]
     },
     "execution_count": 45,
     "metadata": {},
     "output_type": "execute_result"
    }
   ],
   "source": [
    "scoring_function(y_validation, Y_hat_valid)"
   ]
  },
  {
   "cell_type": "code",
   "execution_count": 36,
   "metadata": {},
   "outputs": [
    {
     "name": "stderr",
     "output_type": "stream",
     "text": [
      "<ipython-input-36-104b0136ecc7>:2: DataConversionWarning: A column-vector y was passed when a 1d array was expected. Please change the shape of y to (n_samples,), for example using ravel().\n",
      "  cl.fit(create_features(D.data['X_train']), D.data['Y_train'])\n"
     ]
    }
   ],
   "source": [
    "cl = RandomForestClassifier(class_weight=\"balanced\")\n",
    "cl.fit(create_features(D.data['X_train']), D.data['Y_train'])\n",
    "Y_hat_train = cl.predict(create_features(D.data['X_train']))\n",
    "Y_hat_valid = cl.predict(create_features(D.data['X_valid']))\n",
    "Y_hat_test = cl.predict(create_features(D.data['X_test']))"
   ]
  },
  {
   "cell_type": "code",
   "execution_count": null,
   "metadata": {},
   "outputs": [],
   "source": [
    "scoring_function(D.data['Y_train'], Y_hat_train)"
   ]
  },
  {
   "cell_type": "code",
   "execution_count": 40,
   "metadata": {},
   "outputs": [
    {
     "name": "stderr",
     "output_type": "stream",
     "text": [
      "/home/paavo/anaconda3/lib/python3.8/site-packages/sklearn/utils/validation.py:73: DataConversionWarning: A column-vector y was passed when a 1d array was expected. Please change the shape of y to (n_samples, ), for example using ravel().\n",
      "  return f(**kwargs)\n"
     ]
    }
   ],
   "source": [
    "from sklearn.svm import SVC\n",
    "scv = SVC()\n",
    "scv.fit(create_features(D.data['X_train']), D.data['Y_train'])\n",
    "Y_hat_train = scv.predict(create_features(D.data['X_train']))\n",
    "Y_hat_valid = scv.predict(create_features(D.data['X_valid']))\n",
    "Y_hat_test = scv.predict(create_features(D.data['X_test']))"
   ]
  },
  {
   "cell_type": "code",
   "execution_count": 41,
   "metadata": {},
   "outputs": [
    {
     "data": {
      "text/plain": [
       "0.3486538461538462"
      ]
     },
     "execution_count": 41,
     "metadata": {},
     "output_type": "execute_result"
    }
   ],
   "source": [
    "scoring_function(D.data['Y_train'], Y_hat_train)"
   ]
  },
  {
   "cell_type": "code",
   "execution_count": 32,
   "metadata": {},
   "outputs": [
    {
     "name": "stdout",
     "output_type": "stream",
     "text": [
      "Info file found : /home/mykola/Downloads/public_dat/Areal_public.info\n",
      "========= Reading /home/mykola/Downloads/public_dat/Areal_feat.type\n",
      "[+] Success in  0.00 sec\n",
      "========= Reading /home/mykola/Downloads/public_dat/Areal_train.data\n",
      "[+] Success in 78.92 sec\n",
      "========= Reading /home/mykola/Downloads/public_dat/Areal_train.solution\n",
      "[+] Success in  0.01 sec\n",
      "========= Reading /home/mykola/Downloads/public_dat/Areal_valid.data\n",
      "[+] Success in 29.10 sec\n",
      "========= Reading /home/mykola/Downloads/public_dat/Areal_valid.solution\n",
      "[+] Success in  0.00 sec\n",
      "========= Reading /home/mykola/Downloads/public_dat/Areal_test.data\n",
      "[+] Success in 29.74 sec\n",
      "========= Reading /home/mykola/Downloads/public_dat/Areal_test.solution\n",
      "[+] Success in  0.00 sec\n",
      "DataManager : Areal\n",
      "info:\n",
      "\tusage = Sample dataset Areal data\n",
      "\tname = areal\n",
      "\ttask = multiclass.classification\n",
      "\ttarget_type = Categorical\n",
      "\tfeat_type = Numerical\n",
      "\tmetric = accuracy\n",
      "\ttime_budget = 12000\n",
      "\tfeat_num = 49152\n",
      "\ttarget_num = 13\n",
      "\tlabel_num = 13\n",
      "\ttrain_num = 5200\n",
      "\tvalid_num = 1950\n",
      "\ttest_num = 1950\n",
      "\thas_categorical = 0\n",
      "\thas_missing = 0\n",
      "\tis_sparse = 0\n",
      "\tformat = dense\n",
      "data:\n",
      "\tX_train = array(5200, 49152)\n",
      "\tY_train = array(5200, 1)\n",
      "\tX_valid = array(1950, 49152)\n",
      "\tY_valid = array(0,)\n",
      "\tX_test = array(1950, 49152)\n",
      "\tY_test = array(0,)\n",
      "feat_type:\tarray(0,)\n",
      "feat_idx:\tarray(0,)\n",
      "\n"
     ]
    }
   ],
   "source": [
    "#cl.save(trained_model_name)                 \n",
    "result_name = result_dir + data_name\n",
    "from data_io import write\n",
    "write(result_name + '_train.predict', Y_hat_train)\n",
    "write(result_name + '_valid.predict', Y_hat_valid)\n",
    "write(result_name + '_test.predict', Y_hat_test)\n",
    "!ls $result_name*"
   ]
  },
  {
   "cell_type": "code",
   "execution_count": 10,
   "metadata": {},
   "outputs": [
    {
     "data": {
      "text/plain": [
       "((5200, 49152), (5200, 1))"
      ]
     },
     "execution_count": 10,
     "metadata": {},
     "output_type": "execute_result"
    }
   ],
   "source": [
    "X_train = D.data['X_train']\n",
    "Y_train = D.data['Y_train']\n",
    "X_train.shape, Y_train.shape"
   ]
  },
  {
   "cell_type": "code",
   "execution_count": 11,
   "metadata": {},
   "outputs": [],
   "source": [
    "import sklearn\n",
    "scaler = sklearn.preprocessing.MinMaxScaler()\n",
    "X_train = scaler.fit_transform(X_train)\n",
    "X_valid = scaler.transform(D.data['X_valid'])\n",
    "X_test = scaler.transform(D.data['X_test'])"
   ]
  },
  {
   "cell_type": "code",
   "execution_count": 11,
   "metadata": {},
   "outputs": [
    {
     "data": {
      "text/plain": [
       "((4160, 49152), (1040, 49152), (4160, 1), (1040, 1))"
      ]
     },
     "execution_count": 11,
     "metadata": {},
     "output_type": "execute_result"
    }
   ],
   "source": [
    "from sklearn.model_selection import train_test_split\n",
    "Xx_train, Xx_test, yy_train, yy_test = train_test_split(X_train, Y_train, test_size=0.2, random_state=42)\n",
    "Xx_train.shape, Xx_test.shape, yy_train.shape, yy_test.shape"
   ]
  },
  {
   "cell_type": "markdown",
   "metadata": {},
   "source": [
    "### Processing\n",
    "\n",
    "Basically, there are two approaches:\n",
    "\n",
    "* Use raw data as input. This may be the good way to go with, for instance, deep learning models.\n",
    "* Do feature engineering: process the data to create features. You can then use this features as the input of your classifier (Random forest, SVM, etc.). An example of feature is the number of blue pixel in the image. Feature extraction can also be done by a CNN."
   ]
  },
  {
   "cell_type": "code",
   "execution_count": null,
   "metadata": {},
   "outputs": [],
   "source": [
    "D.data['Y_valid'].shape"
   ]
  },
  {
   "cell_type": "markdown",
   "metadata": {},
   "source": [
    "### Use of the baseline model\n",
    "\n",
    "Using our BasicCNN model needs PyTorch libraries installed.\n",
    "\n",
    "In case you have them but still encounter errors related to them, you should probably do an upgrade : \n",
    "\n",
    "    pip install -U torch"
   ]
  },
  {
   "cell_type": "markdown",
   "metadata": {},
   "source": [
    "In basic CNN class there were used such models as:\n",
    "\n",
    "- SimpleConvModel: 1 Convolutional Layer with 2 Fully Connected Layers. This simple model gave accuracy of 0.65 during submission\n",
    "- ResNet: in order to try more deep CNN we used this model. It achieved 0.75 accuracy during submission. Such model drastically overperformed simple convolutional model due to its depth\n",
    "\n",
    "As well as, there were also applied L2 regularizaition, DropOut and weight decay in order to revent overfitting. Also there was an attempt to use augmentation of dataset, though it was computationally not very easy due to high deamnd of RAM. That's why only small portions of dataset were put through augmentation, but it increased generalization on test set only by few percent."
   ]
  },
  {
   "cell_type": "code",
   "execution_count": 28,
   "metadata": {},
   "outputs": [
    {
     "data": {
      "image/png": "[encoded data removed]",
      "text/plain": [
       "<PIL.Image.Image image mode=RGB size=128x128 at 0x7F6211F38BE0>"
      ]
     },
     "execution_count": 28,
     "metadata": {},
     "output_type": "execute_result"
    }
   ],
   "source": [
    "import torchvision\n",
    "transforms_pytorch = torchvision.transforms.Compose([\n",
    "    torchvision.transforms.ToPILImage(),\n",
    "    torchvision.transforms.ColorJitter(hue=.05, saturation=.05),\n",
    "    torchvision.transforms.RandomHorizontalFlip(50),\n",
    "    torchvision.transforms.RandomRotation(50),\n",
    "#     torchvision.transforms.ToTensor()\n",
    "])\n",
    "\n",
    "transforms_pytorch(D.data['X_train'][0].reshape(128,128,3))"
   ]
  },
  {
   "cell_type": "code",
   "execution_count": null,
   "metadata": {},
   "outputs": [],
   "source": [
    "import torch\n",
    "import torch.nn as nn\n",
    "import torch.optim as optim\n",
    "import numpy as np\n",
    "import pickle\n",
    "from torchvision import transforms\n",
    "from sklearn.base import BaseEstimator\n",
    "from sklearn.preprocessing import normalize\n",
    "from PIL import Image\n",
    "from os.path import isfile\n",
    "import torchvision\n",
    "import PIL\n",
    "import imgaug.augmenters as iaa\n",
    "\n",
    "from libscores import get_metric\n",
    "metric_name, scoring_function = get_metric()\n",
    "print('Using scoring metric:', metric_name)\n",
    "\n",
    "\n",
    "seq = iaa.Sequential([\n",
    "#     iaa.Crop(percent=(0, 0.1)),\n",
    "#     iaa.Fliplr(0.5),\n",
    "#     iaa.Flipud(0.5),\n",
    "    iaa.GaussianBlur(sigma=(0, 3.0)),\n",
    "#     iaa.Affine(\n",
    "#         scale={\"x\": (0.8, 1.2), \"y\": (0.8, 1.2)},\n",
    "#         translate_percent={\"x\": (-0.2, 0.2), \"y\": (-0.2, 0.2)},\n",
    "#         rotate=(-25, 25),\n",
    "#         shear=(-8, 8)\n",
    "#     ),\n",
    "    iaa.LinearContrast((0.75, 1.5)),\n",
    "])\n",
    "\n",
    "transforms_pytorch = torchvision.transforms.Compose([\n",
    "    torchvision.transforms.ToPILImage(),\n",
    "    torchvision.transforms.ColorJitter(hue=.05, saturation=.05),\n",
    "    torchvision.transforms.RandomHorizontalFlip(10),\n",
    "    torchvision.transforms.RandomRotation(10),\n",
    "    torchvision.transforms.ToTensor()\n",
    "])\n",
    "\n",
    "def requires_grad(p):\n",
    "    return p.requires_grad\n",
    "\n",
    "\n",
    "class SimpleConvModel(nn.Module):\n",
    "    def __init__(self, out_channel_conv=16, linear_hidden_size=128, out_class=13):\n",
    "        super(SimpleConvModel, self).__init__()\n",
    "\n",
    "        self.out_channel_conv = out_channel_conv\n",
    "        self.linear_hidden_size = linear_hidden_size\n",
    "        self.out_class = out_class\n",
    "\n",
    "        self.seq1 = nn.Sequential(\n",
    "                                  nn.Conv2d(3, self.out_channel_conv, (3,3), stride=3),\n",
    "                                  nn.MaxPool2d(5),\n",
    "                                  nn.ReLU(),\n",
    "#                                   nn.Conv2d(self.out_channel_conv, self.out_channel_conv, (3,3), stride=1),\n",
    "#                                   nn.MaxPool2d(2),\n",
    "#                                   nn.ReLU()\n",
    "                                 )\n",
    "\n",
    "        self.seq2 = nn.Sequential(nn.Linear(self.out_channel_conv * 8 * 8, self.linear_hidden_size),#self.linear_hidden_size),\n",
    "                                  nn.Dropout(0.25),\n",
    "                                  nn.ReLU(),\n",
    "                                  nn.Linear(self.linear_hidden_size, self.out_class),\n",
    "                                  nn.Softmax(dim = 1))\n",
    "\n",
    "    def forward(self, x):\n",
    "        out1 = self.seq1(x)\n",
    "#         print(out1.shape)\n",
    "        out2 = out1.view(-1, self.out_channel_conv*8*8)\n",
    "        out3 = self.seq2(out2)\n",
    "\n",
    "        return out3\n",
    "\n",
    "class BasicCNN(BaseEstimator):\n",
    "    def __init__(self, learning_rate=1e-3, nb_epoch = 10, batch_size = 32, verbose=False, use_cuda=False,\n",
    "                out_channel_conv=16, linear_hidden_size=128):\n",
    "        super(BasicCNN, self).__init__()\n",
    "        if learning_rate is None:\n",
    "            learning_rate = 1e-3\n",
    "        if nb_epoch is None:\n",
    "            nb_epoch = 10\n",
    "        if batch_size is None:\n",
    "            batch_size = 32\n",
    "        if verbose is None:\n",
    "            verbose = False\n",
    "        if use_cuda is None:\n",
    "            use_cuda = False\n",
    "        self.nb_epoch = nb_epoch\n",
    "        self.batch_size = batch_size\n",
    "        self.verbose = verbose\n",
    "        self.use_cuda = use_cuda\n",
    "        self.model_conv = SimpleConvModel(out_channel_conv, linear_hidden_size)\n",
    "#         self.model_conv = torchvision.models.resnet.resnet34(num_classes=13)\n",
    "        # Loss function\n",
    "        self.criterion = nn.CrossEntropyLoss()\n",
    "        if self.use_cuda:\n",
    "            self.model_conv.cuda()\n",
    "            self.criterion.cuda()\n",
    "        # Optimizer\n",
    "        print(learning_rate)\n",
    "        self.optim = optim.Adam(self.model_conv.parameters(), lr=learning_rate, weight_decay=0.00005)\n",
    "\n",
    "    def fit(self, X, Y):\n",
    "        '''\n",
    "            param X: numpy.ndarray\n",
    "                shape = (num_sample, C * W * H)\n",
    "                with C = 3, W = H = 128\n",
    "            param Y: numpy.ndarray\n",
    "                shape = (num_sample, 1)\n",
    "        '''\n",
    "        x_test = self.process_data(Xx_test, augment=False)\n",
    "        y_test = self.process_label(yy_test)\n",
    "        X = self.process_data(X)\n",
    "        Y = self.process_label(Y)\n",
    "        self.model_conv.train()\n",
    "        nb_batch = int(X.shape[0] / self.batch_size)\n",
    "        for e in range(self.nb_epoch):\n",
    "            sum_loss = 0\n",
    "            for i in range(nb_batch):\n",
    "                self.optim.zero_grad()\n",
    "                beg = i * self.batch_size\n",
    "                end = min(X.shape[0], (i + 1) * self.batch_size)\n",
    "                x = X[beg:end]\n",
    "                y = Y[beg:end]\n",
    "                if self.use_cuda:\n",
    "                    x, y = x.cuda(), y.cuda()\n",
    "                out = self.model_conv(x)\n",
    "                loss = self.criterion(out, y)\n",
    "                loss.backward()\n",
    "                self.optim.step()\n",
    "                sum_loss += loss.item()\n",
    "#                 print(loss.item())\n",
    "            sum_loss /= nb_batch\n",
    "            if self.verbose:\n",
    "                print(\"Epoch %d : loss = %f\" % (e, sum_loss))\n",
    "                pred_score = scoring_function(yy_train, self.predict(X, preproc=False))\n",
    "                print('Training score for the', metric_name, 'metric = %5.4f' % pred_score)\n",
    "                print('Test score for the', metric_name, 'metric = %5.4f' % scoring_function(yy_test, self.predict(x_test, preproc=False)))\n",
    "                \n",
    "        return pred_score\n",
    "\n",
    "    def process_data(self, X, augment=True):\n",
    "        print('fst sample', X[0][0])\n",
    "        n_sample = X.shape[0]\n",
    "        X = X.reshape(n_sample, 3, 128, 128)\n",
    "        mean = np.mean(X, axis=1)[:, np.newaxis]\n",
    "        std = np.std(X, axis=1)[:, np.newaxis]\n",
    "\n",
    "\n",
    "#         if augment or True:\n",
    "#             ls = []\n",
    "#             for sample in X:\n",
    "#                 ls.append(transforms_pytorch(sample.reshape(128,128,3)))\n",
    "#             X = torch.stack(ls)\n",
    "# # #             X = X + 0.1*np.random.uniform(size=X.shape)\n",
    "# # #             X = seq(images=X)\n",
    "\n",
    "# #         X = (X - 127.5) / 127.5\n",
    "#             X = X.cpu().numpy()\n",
    "\n",
    "\n",
    "        \n",
    "        \n",
    "#         X = (X - mean) / (std + 1e-8)\n",
    "\n",
    "        X = X.astype(np.float)\n",
    "\n",
    "        print(X.max(), X.min())\n",
    "        return torch.Tensor(X)\n",
    "\n",
    "    def process_label(self, y):\n",
    "        res = torch.zeros(1)\n",
    "        for i in range(y.shape[0]):\n",
    "            l = torch.Tensor([y[i,0]])\n",
    "            res = torch.cat((res, l))\n",
    "        return res[1:].type(torch.long)\n",
    "\n",
    "    def predict_all(self, X):\n",
    "        self.model_conv.eval()\n",
    "        X = self.process_data(X)\n",
    "        if self.use_cuda:\n",
    "            X = X.cuda()\n",
    "        pred = self.model_conv(X).argmax(dim=1).cpu().numpy()\n",
    "        return pred\n",
    "    \n",
    "    def predict(self, X, preproc=True):\n",
    "        '''\n",
    "            param X: numpy.ndarray\n",
    "                shape = (num_sample, C * W * H)\n",
    "                with C = 3, W = H = 128\n",
    "            return: numpy.ndarray\n",
    "                of int with shape (num_sample) ?\n",
    "                of float with shape (num_sample, num_class) ?\n",
    "                of string with shape (num_sample) ?\n",
    "        '''\n",
    "        # inverted_dico = {v:k for k,v in self.label_dico.items()}\n",
    "        self.model_conv.eval()\n",
    "        \n",
    "        if preproc:\n",
    "            X = self.process_data(X, augment=False)\n",
    "\n",
    "        nb_batch = int(X.shape[0] / self.batch_size)\n",
    "        pred = []\n",
    "        for i in range(nb_batch):\n",
    "            beg = i * self.batch_size\n",
    "            end = min(X.shape[0], (i + 1) * self.batch_size)\n",
    "            x = X[beg:end]\n",
    "            \n",
    "            if self.use_cuda:\n",
    "                x = x.cuda()\n",
    "            preds = self.model_conv(x).argmax(dim=1).cpu().numpy()\n",
    "            pred.append(preds)\n",
    "        \n",
    "        if end !=X.shape[0]:\n",
    "            x = X[end:]\n",
    "\n",
    "            if self.use_cuda:\n",
    "                x = x.cuda()\n",
    "            preds = self.model_conv(x).argmax(dim=1).cpu().numpy()\n",
    "            pred.append(preds)\n",
    "        pred = np.array([[item] for sublist in pred for item in sublist])\n",
    "\n",
    "        return pred\n",
    "\n",
    "    def save(self, path=\"./\"):\n",
    "        pickle.dump(self, open(path + '_model.pickle', \"wb\"))\n",
    "\n",
    "    def load(self, path=\"./\"):\n",
    "        modelfile = path + '_model.pickle'\n",
    "        if isfile(modelfile):\n",
    "            with open(modelfile, 'rb') as f:\n",
    "                self = pickle.load(f)\n",
    "            print(\"Model reloaded from: \" + modelfile)\n",
    "        return self"
   ]
  },
  {
   "cell_type": "code",
   "execution_count": null,
   "metadata": {},
   "outputs": [],
   "source": [
    "import gc\n",
    "\n",
    "del m\n",
    "gc.collect()\n",
    "\n",
    "import torch\n",
    "torch.cuda.empty_cache()"
   ]
  },
  {
   "cell_type": "code",
   "execution_count": 34,
   "metadata": {},
   "outputs": [
    {
     "name": "stdout",
     "output_type": "stream",
     "text": [
      "0.0001\n"
     ]
    }
   ],
   "source": [
    "m = BasicCNN(verbose=True, use_cuda=True, nb_epoch=20, batch_size=16, learning_rate=0.0001,\n",
    "            out_channel_conv=64, linear_hidden_size=64)\n",
    "# print(m.model_conv)\n",
    "trained_model_name = model_dir + '/' + data_name"
   ]
  },
  {
   "cell_type": "code",
   "execution_count": null,
   "metadata": {
    "scrolled": true
   },
   "outputs": [
    {
     "name": "stdout",
     "output_type": "stream",
     "text": [
      "fst sample 0.43137254901960786\n",
      "1.0 0.0\n",
      "fst sample 0.27058823529411763\n",
      "1.0 0.0\n"
     ]
    }
   ],
   "source": [
    "m.nb_epoch = 250\n",
    "res = m.fit(Xx_train, yy_train)"
   ]
  },
  {
   "cell_type": "code",
   "execution_count": 67,
   "metadata": {
    "scrolled": true
   },
   "outputs": [],
   "source": [
    "# # torch.autograd.set_detect_anomaly(True)\n",
    "# out_channel_convs = [512, ]\n",
    "# linear_hidden_size = [64,256,512]\n",
    "# lrs = [0.001, 0.0001]\n",
    "# ress = {}\n",
    "# for chn in out_channel_convs:\n",
    "#     for hidden in linear_hidden_size:\n",
    "#         for lr in lrs:\n",
    "\n",
    "#             gc.collect()\n",
    "#             torch.cuda.empty_cache()\n",
    "\n",
    "#             m = BasicCNN(verbose=True, use_cuda=True, nb_epoch=10, batch_size=8, learning_rate=lr,\n",
    "#                     out_channel_conv=chn, linear_hidden_size=hidden)\n",
    "#             trained_model_name = model_dir + '/' + data_name\n",
    "#             res = m.fit(X_train.reshape((-1,128,128,3)), Y_train)\n",
    "#             ress[(chn, hidden, lr)] = res\n",
    "#             del m"
   ]
  },
  {
   "cell_type": "code",
   "execution_count": 24,
   "metadata": {},
   "outputs": [],
   "source": [
    "import gc\n",
    "\n",
    "gc.collect()\n",
    "\n",
    "import torch\n",
    "torch.cuda.empty_cache()"
   ]
  },
  {
   "cell_type": "code",
   "execution_count": 17,
   "metadata": {},
   "outputs": [
    {
     "name": "stdout",
     "output_type": "stream",
     "text": [
      "fst sample 0.42745098039215684\n",
      "1.0 0.0\n",
      "fst sample 0.054901960784313725\n",
      "1.0 -0.032388663967611336\n",
      "fst sample 0.23529411764705882\n",
      "1.0 -0.032388663967611336\n"
     ]
    }
   ],
   "source": [
    "m.save(trained_model_name)  \n",
    "m.batch_size = 4\n",
    "Y_hat_train = m.predict(X_train)\n",
    "Y_hat_valid = m.predict(X_valid)\n",
    "Y_hat_test = m.predict(X_test)\n",
    "m.batch_size = 8"
   ]
  },
  {
   "cell_type": "code",
   "execution_count": 30,
   "metadata": {},
   "outputs": [
    {
     "ename": "NameError",
     "evalue": "name 'm' is not defined",
     "output_type": "error",
     "traceback": [
      "\u001b[0;31m---------------------------------------------------------------------------\u001b[0m",
      "\u001b[0;31mNameError\u001b[0m                                 Traceback (most recent call last)",
      "\u001b[0;32m<ipython-input-30-41bbb99e4884>\u001b[0m in \u001b[0;36m<module>\u001b[0;34m\u001b[0m\n\u001b[0;32m----> 1\u001b[0;31m \u001b[0mm\u001b[0m\u001b[0;34m.\u001b[0m\u001b[0msave\u001b[0m\u001b[0;34m(\u001b[0m\u001b[0mtrained_model_name\u001b[0m\u001b[0;34m)\u001b[0m\u001b[0;34m\u001b[0m\u001b[0;34m\u001b[0m\u001b[0m\n\u001b[0m\u001b[1;32m      2\u001b[0m \u001b[0mresult_name\u001b[0m \u001b[0;34m=\u001b[0m \u001b[0mresult_dir\u001b[0m \u001b[0;34m+\u001b[0m \u001b[0mdata_name\u001b[0m\u001b[0;34m\u001b[0m\u001b[0;34m\u001b[0m\u001b[0m\n\u001b[1;32m      3\u001b[0m \u001b[0;32mfrom\u001b[0m \u001b[0mdata_io\u001b[0m \u001b[0;32mimport\u001b[0m \u001b[0mwrite\u001b[0m\u001b[0;34m\u001b[0m\u001b[0;34m\u001b[0m\u001b[0m\n\u001b[1;32m      4\u001b[0m \u001b[0mwrite\u001b[0m\u001b[0;34m(\u001b[0m\u001b[0mresult_name\u001b[0m \u001b[0;34m+\u001b[0m \u001b[0;34m'_train.predict'\u001b[0m\u001b[0;34m,\u001b[0m \u001b[0mY_hat_train\u001b[0m\u001b[0;34m)\u001b[0m\u001b[0;34m\u001b[0m\u001b[0;34m\u001b[0m\u001b[0m\n\u001b[1;32m      5\u001b[0m \u001b[0mwrite\u001b[0m\u001b[0;34m(\u001b[0m\u001b[0mresult_name\u001b[0m \u001b[0;34m+\u001b[0m \u001b[0;34m'_valid.predict'\u001b[0m\u001b[0;34m,\u001b[0m \u001b[0mY_hat_valid\u001b[0m\u001b[0;34m)\u001b[0m\u001b[0;34m\u001b[0m\u001b[0;34m\u001b[0m\u001b[0m\n",
      "\u001b[0;31mNameError\u001b[0m: name 'm' is not defined"
     ]
    }
   ],
   "source": [
    "m.save(trained_model_name)                 \n",
    "result_name = result_dir + data_name\n",
    "from data_io import write\n",
    "write(result_name + '_train.predict', Y_hat_train)\n",
    "write(result_name + '_valid.predict', Y_hat_valid)\n",
    "write(result_name + '_test.predict', Y_hat_test)\n",
    "!ls $result_name*"
   ]
  },
  {
   "cell_type": "markdown",
   "metadata": {},
   "source": [
    "#### Question 3: What are the hyperparameters of a CNN?"
   ]
  },
  {
   "cell_type": "markdown",
   "metadata": {},
   "source": [
    "Apart from learning parameters such as number of layers similar to a normal neural net the CNN specifically has the size of the kernels that are used to detect features, the step size with which the kernel is applied as well as padding of the sides of the image."
   ]
  },
  {
   "cell_type": "markdown",
   "metadata": {},
   "source": [
    "#### Code 2: Edit model.py to vary the CNN's hyperparameter"
   ]
  },
  {
   "cell_type": "code",
   "execution_count": null,
   "metadata": {},
   "outputs": [],
   "source": [
    "#TODO in model.py"
   ]
  },
  {
   "cell_type": "markdown",
   "metadata": {},
   "source": [
    "#### Code 3: Try another model (e.g. Random Forest, SVM, etc.)"
   ]
  },
  {
   "cell_type": "code",
   "execution_count": null,
   "metadata": {},
   "outputs": [],
   "source": [
    "#TODO in another model.py file"
   ]
  },
  {
   "cell_type": "markdown",
   "metadata": {},
   "source": [
    "# Scoring the result\n",
    "\n",
    "Obviously, since it is made with sample_data, which has too few samples, results won't be really good"
   ]
  },
  {
   "cell_type": "code",
   "execution_count": 19,
   "metadata": {},
   "outputs": [
    {
     "data": {
      "text/plain": [
       "module"
      ]
     },
     "execution_count": 19,
     "metadata": {},
     "output_type": "execute_result"
    }
   ],
   "source": [
    "from libscores import get_metric\n",
    "import libscores\n",
    "type(libscores)"
   ]
  },
  {
   "cell_type": "code",
   "execution_count": 20,
   "metadata": {},
   "outputs": [
    {
     "name": "stdout",
     "output_type": "stream",
     "text": [
      "Using scoring metric: accuracy\n"
     ]
    }
   ],
   "source": [
    "from libscores import get_metric\n",
    "metric_name, scoring_function = get_metric()\n",
    "print('Using scoring metric:', metric_name)"
   ]
  },
  {
   "cell_type": "code",
   "execution_count": 21,
   "metadata": {},
   "outputs": [
    {
     "data": {
      "text/plain": [
       "(0, 0)"
      ]
     },
     "execution_count": 21,
     "metadata": {},
     "output_type": "execute_result"
    }
   ],
   "source": [
    "len(D.data['Y_valid']), len(D.data['Y_test'])"
   ]
  },
  {
   "cell_type": "code",
   "execution_count": 22,
   "metadata": {},
   "outputs": [
    {
     "name": "stdout",
     "output_type": "stream",
     "text": [
      "Ideal score for the accuracy metric = 1.0000\n",
      "Training score for the accuracy metric = 0.6687\n"
     ]
    }
   ],
   "source": [
    "print('Ideal score for the', metric_name, 'metric = %5.4f' % scoring_function(Y_train, Y_train))\n",
    "print('Training score for the', metric_name, 'metric = %5.4f' % scoring_function(Y_train, Y_hat_train))\n",
    "if len(D.data['Y_valid']) > 0 and len(D.data['Y_test']) > 0:\n",
    "    print('Valid score for the', metric_name, 'metric = %5.4f' % scoring_function(D.data['Y_valid'], Y_hat_valid))\n",
    "    print('Test score for the', metric_name, 'metric = %5.4f' % scoring_function(D.data['Y_test'], Y_hat_test))"
   ]
  },
  {
   "cell_type": "markdown",
   "metadata": {},
   "source": [
    "## Confusion matrix"
   ]
  },
  {
   "cell_type": "code",
   "execution_count": 27,
   "metadata": {
    "scrolled": true
   },
   "outputs": [
    {
     "data": {
      "text/plain": [
       "array([[  0,  16,  54,  22,   0,  65,   2,   0,  50,  78,  44,  65,   4],\n",
       "       [  0, 274,   1,  11,  62,   0,   0,   0,  24,   6,   0,   1,  21],\n",
       "       [  0,   2, 229,   6,   3,  28,   5,   0,  12,  46,  35,  18,  16],\n",
       "       [  0,  10,   1, 352,   0,   0,   0,   0,  25,   3,   0,   8,   1],\n",
       "       [  0,   0,   0,   0, 360,   0,   0,   4,   0,   9,   0,   0,  27],\n",
       "       [  0,   0,  14,   3,   4, 322,   5,   0,   6,  35,   9,   0,   2],\n",
       "       [  0,  38,   6,   1,  18,  10, 193,   9,  24,  68,   3,   7,  23],\n",
       "       [  0,   0,   0,   1,  12,   0,   2, 362,   5,   5,   0,   0,  13],\n",
       "       [  0,  31,   3,  19,  39,   2,   8,  20, 176,  63,   2,   8,  29],\n",
       "       [  0,  18,   8,   3,  21,   1,  18,  14,  19, 267,   8,   4,  19],\n",
       "       [  0,   0,  15,   0,   1,  16,   1,   0,   0,  20, 342,   5,   0],\n",
       "       [  0,   7,   5,   0,   1,   0,   0,   0,   4,   4,   0, 379,   0],\n",
       "       [  0,   0,   1,   0,  70,   3,  17,  30,  26,  27,   4,   1, 221]])"
      ]
     },
     "execution_count": 27,
     "metadata": {},
     "output_type": "execute_result"
    }
   ],
   "source": [
    "from sklearn.metrics import confusion_matrix\n",
    "import seaborn as sn\n",
    "import matplotlib.pyplot as plt\n",
    "conf_matr = confusion_matrix(Y_train[:Y_hat_train.shape[0]], Y_hat_train)\n",
    "conf_matr"
   ]
  },
  {
   "cell_type": "markdown",
   "metadata": {},
   "source": [
    "#### Code 4: display the confusion matrix with a colored heatmap"
   ]
  },
  {
   "cell_type": "code",
   "execution_count": 31,
   "metadata": {},
   "outputs": [
    {
     "data": {
      "text/plain": [
       "<AxesSubplot:>"
      ]
     },
     "execution_count": 31,
     "metadata": {},
     "output_type": "execute_result"
    },
    {
     "data": {
      "image/png": "[encoded data removed]",
      "text/plain": [
       "<Figure size 1080x504 with 2 Axes>"
      ]
     },
     "metadata": {
      "needs_background": "light"
     },
     "output_type": "display_data"
    }
   ],
   "source": [
    "plt.figure(figsize = (15,7))\n",
    "sn.heatmap(conf_matr, annot=True,  fmt='g')"
   ]
  },
  {
   "cell_type": "markdown",
   "metadata": {},
   "source": [
    "#### Question 4: what does the confusion matrix represent?"
   ]
  },
  {
   "cell_type": "markdown",
   "metadata": {},
   "source": [
    "On one axis the confusion matrix shows the predictions and on one side the solutions. The middle diagonal shows where both are the same. To the side there are cases where may a beach is classified as mountains. If there is a large number of missclassification between two classes that means that the model has difficulties distinguishing the two(so one could create features to differentiate the two, or change the model architecture)"
   ]
  },
  {
   "cell_type": "markdown",
   "metadata": {},
   "source": [
    "## Cross validation"
   ]
  },
  {
   "cell_type": "markdown",
   "metadata": {},
   "source": [
    "CV scores on sample_data doesn't have enough data, and so isn't meaningful.\n",
    "Run it with the full data to see meaningful values."
   ]
  },
  {
   "cell_type": "code",
   "execution_count": 25,
   "metadata": {},
   "outputs": [],
   "source": [
    "from sklearn.metrics import make_scorer\n",
    "from sklearn.model_selection import cross_val_score"
   ]
  },
  {
   "cell_type": "code",
   "execution_count": 26,
   "metadata": {},
   "outputs": [
    {
     "ename": "NameError",
     "evalue": "name 'BasicCNN' is not defined",
     "output_type": "error",
     "traceback": [
      "\u001b[0;31m---------------------------------------------------------------------------\u001b[0m",
      "\u001b[0;31mNameError\u001b[0m                                 Traceback (most recent call last)",
      "\u001b[0;32m<ipython-input-26-74633c28763e>\u001b[0m in \u001b[0;36m<module>\u001b[0;34m\u001b[0m\n\u001b[0;32m----> 1\u001b[0;31m \u001b[0mscores\u001b[0m \u001b[0;34m=\u001b[0m \u001b[0mcross_val_score\u001b[0m\u001b[0;34m(\u001b[0m\u001b[0mBasicCNN\u001b[0m\u001b[0;34m(\u001b[0m\u001b[0;34m)\u001b[0m\u001b[0;34m,\u001b[0m \u001b[0mX_train\u001b[0m\u001b[0;34m,\u001b[0m \u001b[0mY_train\u001b[0m\u001b[0;34m,\u001b[0m \u001b[0mcv\u001b[0m\u001b[0;34m=\u001b[0m\u001b[0;36m3\u001b[0m\u001b[0;34m,\u001b[0m \u001b[0mscoring\u001b[0m\u001b[0;34m=\u001b[0m\u001b[0mmake_scorer\u001b[0m\u001b[0;34m(\u001b[0m\u001b[0mscoring_function\u001b[0m\u001b[0;34m)\u001b[0m\u001b[0;34m)\u001b[0m\u001b[0;34m\u001b[0m\u001b[0;34m\u001b[0m\u001b[0m\n\u001b[0m\u001b[1;32m      2\u001b[0m \u001b[0mprint\u001b[0m\u001b[0;34m(\u001b[0m\u001b[0;34m'\\nCV score (95 perc. CI): %0.2f (+/- %0.2f)'\u001b[0m \u001b[0;34m%\u001b[0m \u001b[0;34m(\u001b[0m\u001b[0mscores\u001b[0m\u001b[0;34m.\u001b[0m\u001b[0mmean\u001b[0m\u001b[0;34m(\u001b[0m\u001b[0;34m)\u001b[0m\u001b[0;34m,\u001b[0m \u001b[0mscores\u001b[0m\u001b[0;34m.\u001b[0m\u001b[0mstd\u001b[0m\u001b[0;34m(\u001b[0m\u001b[0;34m)\u001b[0m \u001b[0;34m*\u001b[0m \u001b[0;36m2\u001b[0m\u001b[0;34m)\u001b[0m\u001b[0;34m)\u001b[0m\u001b[0;34m\u001b[0m\u001b[0;34m\u001b[0m\u001b[0m\n",
      "\u001b[0;31mNameError\u001b[0m: name 'BasicCNN' is not defined"
     ]
    }
   ],
   "source": [
    "scores = cross_val_score(BasicCNN(), X_train, Y_train, cv=3, scoring=make_scorer(scoring_function))\n",
    "print('\\nCV score (95 perc. CI): %0.2f (+/- %0.2f)' % (scores.mean(), scores.std() * 2))"
   ]
  },
  {
   "cell_type": "markdown",
   "metadata": {},
   "source": [
    "#### Question 5: Why is there a standard deviation associated with the cross-validation score?"
   ]
  },
  {
   "cell_type": "markdown",
   "metadata": {},
   "source": [
    "The cross validation uses several folds(or particitions) of the data. Each of these folds hasits accuracy score, in the end the scores of all folds are added. The variations thus shows the variation of the scores. A low variation shows that the model did similarily well on all folds it is therefore more consistent and might be preferable to a different model with similar score and higher variability because it is more consistent."
   ]
  },
  {
   "cell_type": "markdown",
   "metadata": {},
   "source": [
    "# Submission"
   ]
  },
  {
   "cell_type": "markdown",
   "metadata": {},
   "source": [
    "## Example\n",
    "\n",
    "Example needs to have python3 installed\n",
    "\n",
    "Test to see whether submission with ingestion program is working"
   ]
  },
  {
   "cell_type": "code",
   "execution_count": 33,
   "metadata": {
    "scrolled": true
   },
   "outputs": [
    {
     "name": "stdout",
     "output_type": "stream",
     "text": [
      "Using input_dir: /home/paavo/Saclay/OPT9/public_data_tp5\n",
      "Using output_dir: /home/paavo/Saclay/OPT9/TP5/sample_result_submission\n",
      "Using program_dir: /home/paavo/Saclay/OPT9/TP5/ingestion_program\n",
      "Using submission_dir: /home/paavo/Saclay/OPT9/TP5/sample_code_submission\n",
      "\n",
      "========== Ingestion program version 6 ==========\n",
      "\n",
      "************************************************\n",
      "******** Processing dataset Areal ********\n",
      "************************************************\n",
      "========= Reading and converting data ==========\n",
      "Info file found : /home/paavo/Saclay/OPT9/public_data_tp5/Areal_public.info\n",
      "========= Reading /home/paavo/Saclay/OPT9/public_data_tp5/Areal_feat.type\n",
      "[+] Success in  0.00 sec\n",
      "========= Reading /home/paavo/Saclay/OPT9/public_data_tp5/Areal_train.data\n",
      "[+] Success in 60.49 sec\n",
      "========= Reading /home/paavo/Saclay/OPT9/public_data_tp5/Areal_train.solution\n",
      "[+] Success in  0.01 sec\n",
      "========= Reading /home/paavo/Saclay/OPT9/public_data_tp5/Areal_valid.data\n",
      "[+] Success in 22.36 sec\n",
      "========= Reading /home/paavo/Saclay/OPT9/public_data_tp5/Areal_valid.solution\n",
      "[+] Success in  0.00 sec\n",
      "========= Reading /home/paavo/Saclay/OPT9/public_data_tp5/Areal_test.data\n",
      "[+] Success in 22.93 sec\n",
      "========= Reading /home/paavo/Saclay/OPT9/public_data_tp5/Areal_test.solution\n",
      "[+] Success in  0.00 sec\n",
      "DataManager : Areal\n",
      "info:\n",
      "\tusage = Sample dataset Areal data\n",
      "\tname = areal\n",
      "\ttask = multiclass.classification\n",
      "\ttarget_type = Categorical\n",
      "\tfeat_type = Numerical\n",
      "\tmetric = accuracy\n",
      "\ttime_budget = 12000\n",
      "\tfeat_num = 49152\n",
      "\ttarget_num = 13\n",
      "\tlabel_num = 13\n",
      "\ttrain_num = 5200\n",
      "\tvalid_num = 1950\n",
      "\ttest_num = 1950\n",
      "\thas_categorical = 0\n",
      "\thas_missing = 0\n",
      "\tis_sparse = 0\n",
      "\tformat = dense\n",
      "data:\n",
      "\tX_train = array(5200, 49152)\n",
      "\tY_train = array(5200, 1)\n",
      "\tX_valid = array(1950, 49152)\n",
      "\tY_valid = array(0,)\n",
      "\tX_test = array(1950, 49152)\n",
      "\tY_test = array(0,)\n",
      "feat_type:\tarray(0,)\n",
      "feat_idx:\tarray(49152,)\n",
      "\n",
      "[+] Size of uploaded data  48.00 bytes\n",
      "[+] Cumulated time budget (all tasks so far)  12000.00 sec\n",
      "[+] Time budget for this task 12000.00 sec\n",
      "[+] Remaining time after reading data 11889.65 sec\n",
      "======== Creating model ==========\n",
      "**********************************************************\n",
      "****** Attempting to reload model to avoid training ******\n",
      "**********************************************************\n",
      "Model reloaded from: /home/paavo/Saclay/OPT9/TP5/sample_code_submission/Areal_model.pickle\n",
      "[+] Model reloaded, no need to train!\n",
      "[+] Prediction success, time spent so far 118.94 sec\n",
      "======== Saving results to: /home/paavo/Saclay/OPT9/TP5/sample_result_submission\n",
      "[+] Results saved, time spent so far 118.95 sec\n",
      "[+] End cycle, time left 11881.05 sec\n",
      "[+] Done\n",
      "[+] Overall time spent 120.03 sec ::  Overall time budget 12000.00 sec\n"
     ]
    }
   ],
   "source": [
    "!python3 $problem_dir/ingestion.py $data_dir $result_dir $problem_dir $model_dir"
   ]
  },
  {
   "cell_type": "markdown",
   "metadata": {},
   "source": [
    "### Test scoring program"
   ]
  },
  {
   "cell_type": "code",
   "execution_count": 34,
   "metadata": {},
   "outputs": [
    {
     "name": "stdout",
     "output_type": "stream",
     "text": [
      "======= Set 1 (Areal_train): accuracy(set1_score)=0.783461538462 =======\r\n"
     ]
    }
   ],
   "source": [
    "scoring_output_dir = 'scoring_output'\n",
    "!python3 $score_dir/score.py $data_dir $result_dir $scoring_output_dir"
   ]
  },
  {
   "cell_type": "markdown",
   "metadata": {},
   "source": [
    "# Prepare the submission"
   ]
  },
  {
   "cell_type": "code",
   "execution_count": 35,
   "metadata": {},
   "outputs": [
    {
     "name": "stdout",
     "output_type": "stream",
     "text": [
      "Submit one of these files:\n",
      "./sample_code_submission_20-12-30-15-39.zip\n",
      "./sample_result_submission_20-12-30-15-39.zip\n"
     ]
    }
   ],
   "source": [
    "import datetime \n",
    "from data_io import zipdir\n",
    "the_date = datetime.datetime.now().strftime(\"%y-%m-%d-%H-%M\")\n",
    "sample_code_submission = './sample_code_submission_' + the_date + '.zip'\n",
    "sample_result_submission = './sample_result_submission_' + the_date + '.zip'\n",
    "zipdir(sample_code_submission, model_dir)\n",
    "zipdir(sample_result_submission, result_dir)\n",
    "print(\"Submit one of these files:\\n\" + sample_code_submission + \"\\n\" + sample_result_submission)"
   ]
  },
  {
   "cell_type": "markdown",
   "metadata": {},
   "source": [
    "# Try to submit your submissions on Codalab!"
   ]
  }
 ],
 "metadata": {
  "kernelspec": {
   "display_name": "Python 3",
   "language": "python",
   "name": "python3"
  },
  "language_info": {
   "codemirror_mode": {
    "name": "ipython",
    "version": 3
   },
   "file_extension": ".py",
   "mimetype": "text/x-python",
   "name": "python",
   "nbconvert_exporter": "python",
   "pygments_lexer": "ipython3",
   "version": "3.6.12"
  }
 },
 "nbformat": 4,
 "nbformat_minor": 2
}
